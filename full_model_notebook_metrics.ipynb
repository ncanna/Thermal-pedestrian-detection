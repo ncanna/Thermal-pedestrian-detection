{
 "cells": [
  {
   "cell_type": "code",
   "execution_count": 1,
   "metadata": {
    "collapsed": true
   },
   "outputs": [
    {
     "name": "stdout",
     "output_type": "stream",
     "text": [
      "Requirement already satisfied: torchvision in /Users/navya/opt/anaconda3/lib/python3.7/site-packages (0.8.1)\r\n"
     ]
    },
    {
     "name": "stdout",
     "output_type": "stream",
     "text": [
      "Requirement already satisfied: pillow>=4.1.1 in /Users/navya/opt/anaconda3/lib/python3.7/site-packages (from torchvision) (6.2.0)\r\nRequirement already satisfied: numpy in /Users/navya/opt/anaconda3/lib/python3.7/site-packages (from torchvision) (1.17.2)\r\nRequirement already satisfied: torch==1.7.0 in /Users/navya/opt/anaconda3/lib/python3.7/site-packages (from torchvision) (1.7.0)\r\n"
     ]
    },
    {
     "name": "stdout",
     "output_type": "stream",
     "text": [
      "Requirement already satisfied: dataclasses in /Users/navya/opt/anaconda3/lib/python3.7/site-packages (from torch==1.7.0->torchvision) (0.6)\r\nRequirement already satisfied: typing-extensions in /Users/navya/opt/anaconda3/lib/python3.7/site-packages (from torch==1.7.0->torchvision) (3.7.4.3)\r\nRequirement already satisfied: future in /Users/navya/opt/anaconda3/lib/python3.7/site-packages (from torch==1.7.0->torchvision) (0.17.1)\r\n"
     ]
    }
   ],
   "source": [
    "#pip\n",
    "!pip install torchvision"
   ]
  },
  {
   "cell_type": "code",
   "execution_count": 2,
   "metadata": {
    "collapsed": false
   },
   "outputs": [],
   "source": [
    "#imports\n",
    "import pandas as pd\n",
    "import os\n",
    "import numpy as np\n",
    "from numpy.distutils.misc_util import is_sequence\n",
    "from bs4 import BeautifulSoup #this is to extract info from the xml, if we use it in the end\n",
    "import matplotlib.pyplot as plt\n",
    "import matplotlib.patches as patches\n",
    "from PIL import Image\n",
    "import json\n",
    "import pickle\n",
    "\n",
    "import torchvision\n",
    "from torchvision import transforms, datasets, models\n",
    "from torchvision.models.detection.faster_rcnn import FastRCNNPredictor\n",
    "\n",
    "import torch\n",
    "import torch.nn as nn\n",
    "import torch.nn.functional as F\n",
    "from torch.autograd import Variable\n",
    "import torch.optim as optim\n",
    "from torch.utils.data.sampler import SubsetRandomSampler \n",
    "from sklearn.metrics import f1_score, precision_score, recall_score\n",
    "import statistics \n",
    "\n",
    "import os\n",
    "from datetime import datetime \n",
    "from pathlib import Path \n"
   ]
  },
  {
   "cell_type": "code",
   "execution_count": 3,
   "metadata": {
    "collapsed": false
   },
   "outputs": [
    {
     "name": "stdout",
     "output_type": "stream",
     "text": [
      "Creation of directory at /Users/navya/Desktop/Capstone/thermal-pedestrian-detection-lstm/2020_12_10-02_18_41_PM_NOTEBOOK successful\n"
     ]
    }
   ],
   "source": [
    "try:\n",
    "    current_time = datetime.now().strftime(\"%Y_%m_%d-%I_%M_%S_%p\") \n",
    "    dir_path = os.getcwd()\n",
    "    directory = dir_path+\"/\"+current_time+\"_NOTEBOOK\"\n",
    "    if not os.path.exists(directory):\n",
    "        os.makedirs(directory)\n",
    "    print(f'Creation of directory at {directory} successful')\n",
    "except:\n",
    "    print(f'Creation of directory at {directory} failed')\n"
   ]
  },
  {
   "cell_type": "code",
   "execution_count": 4,
   "metadata": {
    "collapsed": false
   },
   "outputs": [],
   "source": [
    "file_output_path = directory+\"/\""
   ]
  },
  {
   "cell_type": "code",
   "execution_count": 5,
   "metadata": {
    "collapsed": false
   },
   "outputs": [],
   "source": [
    "batch_size = 8\n",
    "num_epochs = 2"
   ]
  },
  {
   "cell_type": "code",
   "execution_count": 6,
   "metadata": {
    "collapsed": false
   },
   "outputs": [],
   "source": [
    "# Get label and encode\n",
    "def get_box(obj):\n",
    "    xmin = float(obj.find('xmin').text)\n",
    "    xmax = float(obj.find('xmax').text)\n",
    "    ymin = float(obj.find('ymin').text)\n",
    "    ymax = float(obj.find('ymax').text)\n",
    "    return [xmin, ymin, xmax, ymax]\n",
    "\n",
    "def get_label(obj):\n",
    "    if obj.find('name').text == 'person' or obj.find('name').text == 'people':\n",
    "        return 1\n",
    "    if obj.find('name').text == 'cyclist':\n",
    "        return 2\n",
    "    else:\n",
    "        return 0\n",
    "\n",
    "# Generate the target location in the image\n",
    "def generate_target(image_id,file):\n",
    "    with open(file) as f:\n",
    "        data = f.read()\n",
    "        soup = BeautifulSoup(data, 'xml') #probably will have to change this\n",
    "        objects = soup.find_all('object')\n",
    "\n",
    "        num_objs = len(objects)\n",
    "\n",
    "        boxes = []\n",
    "        labels = []\n",
    "\n",
    "        for i in objects:\n",
    "            boxes.append(get_box(i))\n",
    "            labels.append(get_label(i))\n",
    "            \n",
    "        boxes = torch.as_tensor(boxes, dtype=torch.float32)\n",
    "        labels = torch.as_tensor(labels, dtype=torch.int64)\n",
    "        img_id = torch.tensor([image_id])\n",
    "\n",
    "        # Creating the target for the box\n",
    "        target={}\n",
    "        target['boxes'] = boxes\n",
    "        target['labels'] = labels\n",
    "        target['image_id'] = img_id\n",
    "\n",
    "        return target\n",
    "\n",
    "def OHE(label):\n",
    "  if label == \"People\" or label== \"Person\":\n",
    "      return 1\n",
    "  elif label == \"Cyclist\":\n",
    "      return 2\n",
    "  else:\n",
    "      return 0\n",
    "\n",
    "def Recode(label):\n",
    "  if label == 1:\n",
    "      return \"Person(s)\"\n",
    "  elif label == 2:\n",
    "      return \"Cyclist\"\n",
    "  else:\n",
    "      return \"N/A\"\n",
    "\n",
    "class FullImages(object):\n",
    "    def __init__(self, transforms=None):\n",
    "        #self.csv = pd.read_csv(\"frame_MasterList.csv\")\n",
    "        self.csv = pd.read_csv(\"frame_MasterList.csv\").head(25)  # will always grab this\n",
    "        self.csv_len = self.csv.shape[1]\n",
    "        self.imgs = self.csv.image_path.tolist()\n",
    "        self.imgs_len = len(self.imgs)\n",
    "        self.transforms = transforms\n",
    "\n",
    "    def __len__(self):\n",
    "        return self.imgs_len\n",
    "        #return self.csv_len\n",
    "\n",
    "    def __getitem__(self, idx):\n",
    "        if torch.is_tensor(idx):\n",
    "            idx = idx.tolist()\n",
    "\n",
    "        img = self.csv.loc[idx, 'image_path']\n",
    "        annotation = self.csv.loc[idx, 'annotation_path']\n",
    "\n",
    "        img = Image.open(img).convert(\"L\")\n",
    "        target = generate_target(idx, annotation)\n",
    "\n",
    "        # label = self.labels[idx]\n",
    "        # label = OHE(label)\n",
    "        # label = torch.as_tensor(label, dtype=torch.int64)\n",
    "\n",
    "        if self.transforms is not None:\n",
    "            img = self.transforms(img)\n",
    "\n",
    "        return img, target\n"
   ]
  },
  {
   "cell_type": "code",
   "execution_count": 7,
   "metadata": {
    "collapsed": false
   },
   "outputs": [
    {
     "name": "stdout",
     "output_type": "stream",
     "text": [
      "Length of Dataset: 25\nLength of Train: 20; Length of Test: 5\n"
     ]
    }
   ],
   "source": [
    "# Normalize\n",
    "data_transform = transforms.Compose([#transforms.Resize((80,50)),\n",
    "                                     transforms.ToTensor(),\n",
    "                                     transforms.Normalize([0.5], [0.5]\n",
    "                                                          )])\n",
    "\n",
    "# Collate images\n",
    "def collate_fn(batch):\n",
    "    return tuple(zip(*batch)) #will need adjusting when pathing is adjusted\n",
    "\n",
    "dataset = FullImages(data_transform)\n",
    "data_size = len(dataset)\n",
    "print(f'Length of Dataset: {data_size}')\n",
    "\n",
    "indices = list(range(data_size))\n",
    "test_split = 0.2\n",
    "split = int(np.floor(test_split * data_size))\n",
    "#print(f'Length of Split Dataset: {split}')\n",
    "\n",
    "train_indices, test_indices = indices[split:], indices[:split]\n",
    "len_train_ind, len_test_ind = len(train_indices), len(test_indices)\n",
    "print(f'Length of Train: {len_train_ind}; Length of Test: {len_test_ind}')\n"
   ]
  },
  {
   "cell_type": "code",
   "execution_count": 8,
   "metadata": {
    "collapsed": false
   },
   "outputs": [
    {
     "name": "stdout",
     "output_type": "stream",
     "text": [
      "Length of train: 3\nLength of test: 1\n"
     ]
    }
   ],
   "source": [
    "\n",
    "train_sampler = SubsetRandomSampler(train_indices)\n",
    "test_sampler = SubsetRandomSampler(test_indices)\n",
    "\n",
    "data_loader = torch.utils.data.DataLoader(\n",
    "    dataset,\n",
    "    batch_size = batch_size,\n",
    "    sampler = train_sampler,\n",
    "    collate_fn = collate_fn\n",
    ")\n",
    "len_dataloader = len(data_loader)\n",
    "print(f'Length of train: {len_dataloader}')\n",
    "\n",
    "data_loader_test = torch.utils.data.DataLoader(dataset, batch_size=batch_size, sampler = test_sampler, collate_fn = collate_fn)\n",
    "len_testdataloader = len(data_loader_test)\n",
    "print(f'Length of test: {len_testdataloader}')\n"
   ]
  },
  {
   "cell_type": "code",
   "execution_count": 9,
   "metadata": {
    "collapsed": false
   },
   "outputs": [],
   "source": [
    "# Check if GPU\n",
    "cuda = torch.cuda.is_available()\n",
    "if cuda:\n",
    "    device = torch.device(\"cuda\")\n",
    "else:\n",
    "    device = torch.device(\"cpu\")\n",
    "\n",
    "# Instance segmentation is crucial in using the full images\n",
    "def get_model_instance_segmentation(num_classes):\n",
    "    model = torchvision.models.detection.fasterrcnn_resnet50_fpn(pretrained = True)\n",
    "    in_features = model.roi_heads.box_predictor.cls_score.in_features\n",
    "    model.roi_heads.box_predictor = FastRCNNPredictor(\n",
    "        in_features, num_classes)\n",
    "    return model\n"
   ]
  },
  {
   "cell_type": "code",
   "execution_count": 24,
   "metadata": {
    "collapsed": false
   },
   "outputs": [
    {
     "name": "stdout",
     "output_type": "stream",
     "text": [
      "Images ids for the 3 images in train data loader: [18, 22, 21] totalling 7 annotations.\nImages ids for the 1 images in test data loader: [3] totalling 3 annotations.\n"
     ]
    }
   ],
   "source": [
    "train_i = 0\n",
    "tot_ats = 0\n",
    "train_ids = []\n",
    "#print(\"Train\")\n",
    "for imgs, annotations in data_loader:\n",
    "    train_i += 1\n",
    "    imgs_train = list(img.to(device) for img in imgs)\n",
    "    annotations = [{k: v.to(device) for k, v in t.items()} for t in annotations]\n",
    "    ats = len([annotations[0]][0].get(\"labels\"))\n",
    "    train_ids.append([annotations[0]][0].get(\"image_id\").item()) \n",
    "    #print(f'Annotations in image {train_i} in train data loader: {ats}')\n",
    "    tot_ats += ats\n",
    "\n",
    "#print(\"Test\")\n",
    "test_i = 0\n",
    "test_tot_ats = 0\n",
    "test_ids = []\n",
    "for test_imgs, test_annotations in data_loader_test:\n",
    "    test_i += 1\n",
    "    imgs_test = list(img_test.to(device) for img_test in test_imgs)\n",
    "    annotations_test = [{k: v.to(device) for k, v in t.items()} for t in test_annotations]\n",
    "    test_ats = len([annotations_test[0]][0].get(\"labels\"))\n",
    "    test_ids.append([annotations_test[0]][0].get(\"image_id\").item()) \n",
    "    #print(f'Annotations in image {test_i} in train data loader: {test_ats}')\n",
    "    test_tot_ats += test_ats\n",
    "    \n",
    "\n",
    "print(f'Images ids for the {train_i} images in train data loader: {train_ids} totalling {tot_ats} '\n",
    "      f'annotations.')\n",
    "print(f'Images ids for the {test_i} images in test data loader: {test_ids} totalling {test_tot_ats} annotations.')"
   ]
  },
  {
   "cell_type": "code",
   "execution_count": 11,
   "metadata": {
    "collapsed": false
   },
   "outputs": [],
   "source": [
    "#cnn = torchvision.models.detection.fasterrcnn_resnet50_fpn(pretrained = False)\n",
    "model = get_model_instance_segmentation(3)\n",
    "model.to(device)\n",
    "params = [p for p in model.parameters() if p.requires_grad]\n",
    "optimizer = torch.optim.Adam(params) #, lr = 0.005, weight_decay = 0.0005)\n",
    "\n",
    "# Learning rate scheduler\n",
    "# lr_scheduler = torch.optim.lr_scheduler.StepLR(optimizer,\n",
    "#                                                step_size = 5,\n",
    "#                                                gamma = 0.2)\n"
   ]
  },
  {
   "cell_type": "code",
   "execution_count": null,
   "metadata": {
    "collapsed": false
   },
   "outputs": [],
   "source": [
    "\n",
    "tot_ats = 0\n",
    "epochs = 0\n",
    "epoch_ats = []\n",
    "epoch_losses = []\n",
    "df = pd.DataFrame({'Mean_Epoch_Loss': epoch_losses}) \n",
    "for epoch in range(num_epochs):\n",
    "    epochs += 1\n",
    "    print(f'Epoch: {epochs}')\n",
    "    model.train()\n",
    "    epoch_loss = 0\n",
    "    i = 0\n",
    "    for imgs, annotations in data_loader:\n",
    "        imgs = list(img.to(device) for img in imgs)\n",
    "        annotations = [{k: v.to(device) for k, v in t.items()} for t in annotations]\n",
    "        loss_dict = model([imgs[0]], [annotations[0]])\n",
    "        losses = sum(loss for loss in loss_dict.values())\n",
    "        \n",
    "        optimizer.zero_grad()\n",
    "        losses.backward()\n",
    "        optimizer.step()\n",
    "        \n",
    "        i += 1\n",
    "        tot_ats += 1 \n",
    "    \n",
    "        epoch_loss += losses\n",
    "        print(f'Iteration: {i}/{len_dataloader}, Loss: {losses}')\n",
    "    \n",
    "    mean_epoch_loss = epoch_loss/i\n",
    "    epoch_losses.append(mean_epoch_loss)\n",
    "    epoch_ats.append(i)\n",
    "    \n",
    "    if epochs % 1 == 0:\n",
    "        df = pd.DataFrame({'Mean_Epoch_Loss': epoch_losses})  \n",
    "        #print(df)\n",
    "        partial_name = \"full_model_partial_\" + str(epochs)     \n",
    "        df.to_csv(file_output_path+partial_name+ \"_losses.csv\", index=False)\n",
    "        torch.save(model.state_dict(), file_output_path+partial_name + \".pt\") \n",
    "        print(f'Partial model and losses for epoch {file_output_path} saved to {directory}.')    \n",
    "        \n",
    "    # Update learning rate\n",
    "    #lr_scheduler.step()\n",
    "\n",
    "try:\n",
    "    # Save training metrics\n",
    "    full_name = \"full_model_losses_\" + str(epochs) + \".csv\"\n",
    "    df.to_csv(file_output_path+full_name, index=False)\n",
    "    print(f'Full model losses for {epochs} epochs saved to {directory}.') \n",
    "except:\n",
    "    pass\n",
    "\n",
    "try:\n",
    "    # Save model\n",
    "    torch.save(model.state_dict(), file_output_path+'full_model.pt')\n",
    "    print(f'Full model trained on {epochs} epochs saved to {directory}.')     \n",
    "except:\n",
    "    pass\n",
    "\n",
    "print(f'Annotations Trained: {tot_ats}')\n",
    "\n",
    "model2 = get_model_instance_segmentation(3)\n",
    "model2.load_state_dict(torch.load(file_output_path+'full_model.pt'))\n",
    "model2.eval()\n",
    "model2.to(device)\n"
   ]
  },
  {
   "cell_type": "code",
   "execution_count": 34,
   "metadata": {
    "collapsed": false
   },
   "outputs": [
    {
     "name": "stdout",
     "output_type": "stream",
     "text": [
      "[tensor([[[-0.6000, -0.5843, -0.5529,  ..., -0.7020, -0.9137, -1.0000],\n         [-0.6078, -0.5843, -0.5608,  ..., -0.7020, -0.9137, -1.0000],\n         [-0.6078, -0.5922, -0.5608,  ..., -0.7020, -0.9137, -1.0000],\n         ...,\n         [-0.7804, -0.7882, -0.7882,  ..., -0.8353, -0.9451, -1.0000],\n         [-0.7804, -0.7882, -0.7882,  ..., -0.8353, -0.9451, -1.0000],\n         [-1.0000, -1.0000, -1.0000,  ..., -1.0000, -1.0000, -1.0000]]]), tensor([[[-1.0000, -1.0000, -1.0000,  ..., -0.6549, -0.8980, -1.0000],\n         [-1.0000, -1.0000, -1.0000,  ..., -0.6549, -0.8902, -1.0000],\n         [-1.0000, -1.0000, -1.0000,  ..., -0.6471, -0.8824, -1.0000],\n         ...,\n         [-0.7490, -0.7490, -0.7412,  ..., -0.7569, -0.9373, -1.0000],\n         [-0.7569, -0.7490, -0.7333,  ..., -0.7569, -0.9373, -1.0000],\n         [-1.0000, -1.0000, -1.0000,  ..., -1.0000, -1.0000, -1.0000]]]), tensor([[[-1.0000, -1.0000, -1.0000,  ..., -1.0000, -1.0000, -1.0000],\n         [-1.0000, -1.0000, -1.0000,  ..., -1.0000, -1.0000, -1.0000],\n         [-1.0000, -1.0000, -1.0000,  ..., -1.0000, -1.0000, -1.0000],\n         ...,\n         [-0.7490, -0.7490, -0.7490,  ..., -0.8745, -0.9608, -1.0000],\n         [-0.7490, -0.7490, -0.7490,  ..., -0.8588, -0.9529, -1.0000],\n         [-1.0000, -1.0000, -1.0000,  ..., -1.0000, -1.0000, -1.0000]]]), tensor([[[-1.0000, -1.0000, -1.0000,  ..., -1.0000, -1.0000, -1.0000],\n         [-1.0000, -1.0000, -1.0000,  ..., -1.0000, -1.0000, -1.0000],\n         [-1.0000, -1.0000, -1.0000,  ..., -1.0000, -1.0000, -1.0000],\n         ...,\n         [-0.7725, -0.7725, -0.7569,  ..., -0.7647, -0.9451, -1.0000],\n         [-0.7725, -0.7647, -0.7569,  ..., -0.7647, -0.9451, -1.0000],\n         [-1.0000, -1.0000, -1.0000,  ..., -1.0000, -1.0000, -1.0000]]]), tensor([[[-0.6863, -0.6784, -0.6706,  ..., -0.7961, -0.9529, -1.0000],\n         [-0.6863, -0.6784, -0.6706,  ..., -0.7961, -0.9529, -1.0000],\n         [-0.6863, -0.6863, -0.6706,  ..., -0.7961, -0.9529, -1.0000],\n         ...,\n         [-0.6706, -0.6627, -0.6627,  ..., -0.8275, -0.9373, -1.0000],\n         [-0.6549, -0.6549, -0.6549,  ..., -0.8275, -0.9373, -1.0000],\n         [-1.0000, -1.0000, -1.0000,  ..., -1.0000, -1.0000, -1.0000]]])]\n"
     ]
    }
   ],
   "source": [
    "model2 = get_model_instance_segmentation(3)\n",
    "model2.load_state_dict(torch.load(file_output_path+'full_model.pt'))\n",
    "model2.eval()\n",
    "model2.to(device)\n"
   ]
  },
  {
   "cell_type": "code",
   "execution_count": null,
   "metadata": {
    "collapsed": false
   },
   "outputs": [
    {
     "name": "stdout",
     "output_type": "stream",
     "text": [
      "[tensor([[[-0.6000, -0.5843, -0.5529,  ..., -0.7020, -0.9137, -1.0000],\n         [-0.6078, -0.5843, -0.5608,  ..., -0.7020, -0.9137, -1.0000],\n         [-0.6078, -0.5922, -0.5608,  ..., -0.7020, -0.9137, -1.0000],\n         ...,\n         [-0.7804, -0.7882, -0.7882,  ..., -0.8353, -0.9451, -1.0000],\n         [-0.7804, -0.7882, -0.7882,  ..., -0.8353, -0.9451, -1.0000],\n         [-1.0000, -1.0000, -1.0000,  ..., -1.0000, -1.0000, -1.0000]]]), tensor([[[-1.0000, -1.0000, -1.0000,  ..., -0.6549, -0.8980, -1.0000],\n         [-1.0000, -1.0000, -1.0000,  ..., -0.6549, -0.8902, -1.0000],\n         [-1.0000, -1.0000, -1.0000,  ..., -0.6471, -0.8824, -1.0000],\n         ...,\n         [-0.7490, -0.7490, -0.7412,  ..., -0.7569, -0.9373, -1.0000],\n         [-0.7569, -0.7490, -0.7333,  ..., -0.7569, -0.9373, -1.0000],\n         [-1.0000, -1.0000, -1.0000,  ..., -1.0000, -1.0000, -1.0000]]]), tensor([[[-1.0000, -1.0000, -1.0000,  ..., -1.0000, -1.0000, -1.0000],\n         [-1.0000, -1.0000, -1.0000,  ..., -1.0000, -1.0000, -1.0000],\n         [-1.0000, -1.0000, -1.0000,  ..., -1.0000, -1.0000, -1.0000],\n         ...,\n         [-0.7490, -0.7490, -0.7490,  ..., -0.8745, -0.9608, -1.0000],\n         [-0.7490, -0.7490, -0.7490,  ..., -0.8588, -0.9529, -1.0000],\n         [-1.0000, -1.0000, -1.0000,  ..., -1.0000, -1.0000, -1.0000]]]), tensor([[[-1.0000, -1.0000, -1.0000,  ..., -1.0000, -1.0000, -1.0000],\n         [-1.0000, -1.0000, -1.0000,  ..., -1.0000, -1.0000, -1.0000],\n         [-1.0000, -1.0000, -1.0000,  ..., -1.0000, -1.0000, -1.0000],\n         ...,\n         [-0.7725, -0.7725, -0.7569,  ..., -0.7647, -0.9451, -1.0000],\n         [-0.7725, -0.7647, -0.7569,  ..., -0.7647, -0.9451, -1.0000],\n         [-1.0000, -1.0000, -1.0000,  ..., -1.0000, -1.0000, -1.0000]]]), tensor([[[-0.6863, -0.6784, -0.6706,  ..., -0.7961, -0.9529, -1.0000],\n         [-0.6863, -0.6784, -0.6706,  ..., -0.7961, -0.9529, -1.0000],\n         [-0.6863, -0.6863, -0.6706,  ..., -0.7961, -0.9529, -1.0000],\n         ...,\n         [-0.6706, -0.6627, -0.6627,  ..., -0.8275, -0.9373, -1.0000],\n         [-0.6549, -0.6549, -0.6549,  ..., -0.8275, -0.9373, -1.0000],\n         [-1.0000, -1.0000, -1.0000,  ..., -1.0000, -1.0000, -1.0000]]])]\n"
     ]
    }
   ],
   "source": [
    "\n",
    "pred2 = model2(imgs_test)\n"
   ]
  },
  {
   "cell_type": "code",
   "execution_count": 36,
   "metadata": {
    "collapsed": true
   },
   "outputs": [
    {
     "name": "stdout",
     "output_type": "stream",
     "text": [
      "[{'boxes': tensor([], size=(0, 4), grad_fn=<StackBackward>), 'labels': tensor([], dtype=torch.int64), 'scores': tensor([], grad_fn=<IndexBackward>)}, {'boxes': tensor([], size=(0, 4), grad_fn=<StackBackward>), 'labels': tensor([], dtype=torch.int64), 'scores': tensor([], grad_fn=<IndexBackward>)}, {'boxes': tensor([], size=(0, 4), grad_fn=<StackBackward>), 'labels': tensor([], dtype=torch.int64), 'scores': tensor([], grad_fn=<IndexBackward>)}, {'boxes': tensor([], size=(0, 4), grad_fn=<StackBackward>), 'labels': tensor([], dtype=torch.int64), 'scores': tensor([], grad_fn=<IndexBackward>)}, {'boxes': tensor([], size=(0, 4), grad_fn=<StackBackward>), 'labels': tensor([], dtype=torch.int64), 'scores': tensor([], grad_fn=<IndexBackward>)}]\n"
     ]
    }
   ],
   "source": [
    "\n",
    "print(pred2)"
   ]
  },
  {
   "cell_type": "code",
   "execution_count": null,
   "metadata": {
    "collapsed": true
   },
   "outputs": [
    {
     "name": "stdout",
     "output_type": "stream",
     "text": [
      "[{'boxes': tensor([], size=(0, 4), grad_fn=<StackBackward>), 'labels': tensor([], dtype=torch.int64), 'scores': tensor([], grad_fn=<IndexBackward>)}, {'boxes': tensor([], size=(0, 4), grad_fn=<StackBackward>), 'labels': tensor([], dtype=torch.int64), 'scores': tensor([], grad_fn=<IndexBackward>)}, {'boxes': tensor([], size=(0, 4), grad_fn=<StackBackward>), 'labels': tensor([], dtype=torch.int64), 'scores': tensor([], grad_fn=<IndexBackward>)}, {'boxes': tensor([], size=(0, 4), grad_fn=<StackBackward>), 'labels': tensor([], dtype=torch.int64), 'scores': tensor([], grad_fn=<IndexBackward>)}, {'boxes': tensor([], size=(0, 4), grad_fn=<StackBackward>), 'labels': tensor([], dtype=torch.int64), 'scores': tensor([], grad_fn=<IndexBackward>)}]\n"
     ]
    }
   ],
   "source": [
    "EPS = 1e-6 \n",
    "model.eval()\n",
    "master_csv = pd.read_csv(\"frame_MasterList.csv\")\n"
   ]
  },
  {
   "cell_type": "code",
   "execution_count": 27,
   "metadata": {
    "collapsed": true
   },
   "outputs": [],
   "source": [
    "preds = model(imgs_train)\n",
    "preds_test = model(imgs_test)\n"
   ]
  },
  {
   "cell_type": "code",
   "execution_count": 38,
   "metadata": {},
   "outputs": [
    {
     "name": "stdout",
     "output_type": "stream",
     "text": [
      "4\n5\n"
     ]
    }
   ],
   "source": [
    "print(len(preds))\n",
    "print(len(preds_test))\n"
   ]
  },
  {
   "cell_type": "code",
   "execution_count": 32,
   "metadata": {},
   "outputs": [
    {
     "name": "stdout",
     "output_type": "stream",
     "text": [
      "4\n5\n"
     ]
    }
   ],
   "source": [
    "#print(preds)\n"
   ]
  },
  {
   "cell_type": "code",
   "execution_count": 16,
   "metadata": {
    "collapsed": true
   },
   "outputs": [],
   "source": [
    "def plot_images(num, input):\n",
    "    fig, ax = plt.subplots(nrows=1, ncols=2)\n",
    "    img_tensor = imgs[num]\n",
    "    annotation = annotations[num]\n",
    "    # for key, value in annotation.items():\n",
    "    #         print(key, value)\n",
    "    prediction = preds[num]\n",
    "    \n",
    "    img = img_tensor.cpu().data\n",
    "    img = img[0,:,:]\n",
    "    \n",
    "    ax[0].imshow(img, cmap='gray')\n",
    "    ax[1].imshow(img, cmap='gray')\n",
    "    \n",
    "    ix = 0\n",
    "    for box in annotation[\"boxes\"]:\n",
    "        #print(annotations[ix])\n",
    "        xmin, ymin, xmax, ymax = box.tolist()\n",
    "        value = annotation[\"labels\"][ix]\n",
    "        img_id = annotation[\"image_id\"].item()\n",
    "        file_name = master_csv.loc[img_id,:].image_path\n",
    "        set = file_name.split(\"/\")[7]\n",
    "        video = file_name.split(\"/\")[8]\n",
    "        file_name = file_name.split(\"/\")[10]\n",
    "        file_name = file_name[:-4]\n",
    "        output_name = set+\"_\"+video+\"_\"+file_name\n",
    "        text = Recode(value)\n",
    "        colors = [\"r\", \"#00FF00\",  \"#0000FF\"]\n",
    "        rect = patches.Rectangle((xmin, ymin), (xmax - xmin), (ymax - ymin), linewidth=1,\n",
    "                                 edgecolor=colors[value], facecolor='none')\n",
    "        target_x = xmin\n",
    "        target_y = ymin - 5\n",
    "        ax[0].text(target_x, target_y, text, color=colors[value])\n",
    "        ax[0].add_patch(rect)\n",
    "        ix += 1\n",
    "        \n",
    "\n",
    "    ix = 0\n",
    "    print(str(len(prediction[\"boxes\"])) + \" prediction boxes made for \" + str(len(annotation[\"boxes\"])) + \" actual boxes in \" + str(output_name))\n",
    "    for box in prediction[\"boxes\"]:\n",
    "        xmin, ymin, xmax, ymax = box.tolist()\n",
    "        value = prediction[\"labels\"][ix]\n",
    "        text = Recode(value)\n",
    "        colors = [\"r\", \"#00FF00\",  \"#0000FF\"]\n",
    "        rect = patches.Rectangle((xmin, ymin), (xmax - xmin), (ymax - ymin), linewidth=1,\n",
    "                                 edgecolor=colors[value], facecolor='none')\n",
    "        target_x = xmin\n",
    "        target_y = ymin - 5\n",
    "        ax[1].text(target_x, target_y, text, color=colors[value])\n",
    "        ax[1].add_patch(rect)\n",
    "        ix += 1\n",
    "        \n",
    "    #figname = file_name+\"_\"+input+\".png\"\n",
    "    #fig.savefig(figname)\n",
    "    plt.show()\n"
   ]
  },
  {
   "cell_type": "code",
   "execution_count": 18,
   "metadata": {
    "collapsed": true
   },
   "outputs": [],
   "source": [
    "# A predicted bounding box is considered correct if it overlaps more than 50% with a ground-truth bounding box, otherwise the bounding box is considered a false positive detection. Multiple detections are penalized. If a system predicts several bounding boxes that overlap with a single ground-truth bounding box, only one prediction is considered correct, the others are considered false positives.\n",
    "\n",
    "### AFTER INTERIM: \n",
    "# Use get_iou to store set, video, frame, annotation boxes, pred boxes, lists of iou\n",
    "# Dictionary like {cyclist: [IOU, IOU, IOU], people: [IOU, IOU]}\n",
    "\n",
    "def plot_iou(num, input, test = False):\n",
    "    fig, ax = plt.subplots(1)\n",
    "    if test:\n",
    "        print(\"Test\")\n",
    "        img_tensor = imgs_test[num]\n",
    "        # print(img_tensor)\n",
    "        annotation = annotations_test[num]\n",
    "        prediction = preds_test[num]\n",
    "        # print(annotation)\n",
    "    else:\n",
    "        print(\"Train\")\n",
    "        img_tensor = imgs[num]\n",
    "        # print(img_tensor)\n",
    "        annotation = annotations[num]\n",
    "        # print(annotation)\n",
    "        prediction = preds[num]\n",
    "    # for key, value in annotation.items():\n",
    "    #         print(key, value)\n",
    "    prediction = preds[num]\n",
    "    \n",
    "    img = img_tensor.cpu().data\n",
    "    img = img[0,:,:]\n",
    "    \n",
    "    ax.imshow(img, cmap='gray')\n",
    "    \n",
    "    #print(\"Annotations\")\n",
    "    annotation_boxes = annotation[\"boxes\"].tolist()\n",
    "    #print(annotation_boxes)\n",
    "    \n",
    "    ix = 0\n",
    "    for box in annotation[\"boxes\"]:\n",
    "        #print(annotations[ix])\n",
    "        xmin, ymin, xmax, ymax = box.tolist()\n",
    "        value = annotation[\"labels\"][ix]\n",
    "        img_id = annotation[\"image_id\"].item()\n",
    "        file_name = master_csv.loc[img_id,:].image_path\n",
    "        set = file_name.split(\"/\")[7]\n",
    "        video = file_name.split(\"/\")[8]\n",
    "        file_name = file_name.split(\"/\")[10]\n",
    "        file_name = file_name[:-4]\n",
    "        output_name = set+\"_\"+video+\"_\"+file_name\n",
    "        text = Recode(value)\n",
    "        colors = [\"r\", \"r\", \"r\"]\n",
    "        rect = patches.Rectangle((xmin, ymin), (xmax - xmin), (ymax - ymin), linewidth=1,\n",
    "                                 edgecolor=colors[value], facecolor='none')\n",
    "        target_x = xmin\n",
    "        target_y = ymin - 5\n",
    "        ax.text(target_x, target_y, text, color=colors[value])\n",
    "        ax.add_patch(rect)\n",
    "        ix += 1  \n",
    "\n",
    "    ix = 0\n",
    "    voc_iou = []\n",
    "    mean_iou = 0\n",
    "    print(str(len(prediction[\"boxes\"])) + \" prediction boxes made for \" + str(len(annotation[\"boxes\"])) + \" actual boxes in \" + str(output_name))\n",
    "    for box in prediction[\"boxes\"]:\n",
    "        xmin, ymin, xmax, ymax = box.tolist()\n",
    "        \n",
    "        iou_list = []\n",
    "        for bound in annotation_boxes:\n",
    "            a_xmin, a_ymin, a_xmax, a_ymax = bound\n",
    "            xA = max(xmin, a_xmin)\n",
    "            yA = max(ymin, a_ymin)\n",
    "            xB = min(xmax, a_xmax)\n",
    "            yB = min(ymax, a_ymax)\n",
    "            interArea = max(0, xB - xA + 1) * max(0, yB - yA + 1)\n",
    "            p_area = (xmax - xmin + 1) * (ymax - ymin + 1)\n",
    "            a_area = (a_xmax - a_xmin + 1) * (a_ymax - a_ymin + 1)\n",
    "            iou = interArea / float(p_area + a_area - interArea)\n",
    "            iou_list.append(iou)\n",
    "        max_val = max(iou_list) \n",
    "        voc_iou.append(max_val)\n",
    "\n",
    "        max_ix = iou_list.index(max_val)\n",
    "        map_dict = {max_ix: max_val} \n",
    "        \n",
    "        #iou_string = ', '.join((str(float) for float in iou_list))\n",
    "        value = prediction[\"labels\"][ix]\n",
    "        text = json.dumps(map_dict)\n",
    "        colors = [\"r\", \"#00FF00\",  \"#0000FF\"]\n",
    "        rect = patches.Rectangle((xmin, ymin), (xmax - xmin), (ymax - ymin), linewidth=1,\n",
    "                                 edgecolor=colors[value], facecolor='none')\n",
    "        target_x = xmin\n",
    "        target_y = ymin - 5\n",
    "        ax.text(target_x, target_y, text, color=colors[value])\n",
    "        ax.add_patch(rect)\n",
    "        ix += 1\n",
    "    \n",
    "    plt.show()\n",
    "    \n",
    "    mean_iou = sum(voc_iou)/len(voc_iou) + EPS\n",
    "    fp = voc_iou.count(0)/len(voc_iou) * 100\n",
    "    bp = sum((i > 0 and i < 0.5) for i in voc_iou)/len(voc_iou) * 100\n",
    "    gp = sum((i >= 0.5) for i in voc_iou)/len(voc_iou) * 100\n",
    "    print(f'{fp} false positives (IOU = 0)') \n",
    "    print(f'{bp} bad positives (0 < IOU < 0.5)')\n",
    "    print(f'{gp} good positives (IOU >= 0.5)')\n",
    "    print(f'Mean: {mean_iou}')\n",
    "\n",
    "    figname = file_name+\"_\"+input+\".png\"\n",
    "    fig.savefig(file_output_path+figname)\n",
    "    print(f'Figure {figname} saved to {directory}.')  \n"
   ]
  },
  {
   "cell_type": "code",
   "execution_count": 21,
   "metadata": {
    "collapsed": true
   },
   "outputs": [],
   "source": [
    "def get_iou(num, input, test = False):\n",
    "    if test:\n",
    "        # print(\"Test\")\n",
    "        img_tensor = imgs_test[num]\n",
    "        annotation = annotations_test[num]\n",
    "        prediction = preds_test[num]\n",
    "    else:\n",
    "        # print(\"Train\")\n",
    "        img_tensor = imgs[num]\n",
    "        annotation = annotations[num]\n",
    "        prediction = preds[num]\n",
    "    \n",
    "    img = img_tensor.cpu().data\n",
    "    img = img[0,:,:]\n",
    "    \n",
    "    annotation_boxes = annotation[\"boxes\"].tolist()\n",
    "    \n",
    "    ix = 0\n",
    "    for box in annotation[\"boxes\"]:\n",
    "        xmin, ymin, xmax, ymax = box.tolist()\n",
    "        value = annotation[\"labels\"][ix]\n",
    "        img_id = annotation[\"image_id\"].item()\n",
    "        file_name = master_csv.loc[img_id,:].image_path\n",
    "        set = file_name.split(\"/\")[7]\n",
    "        video = file_name.split(\"/\")[8]\n",
    "        file_name = file_name.split(\"/\")[10]\n",
    "        file_name = file_name[:-4]\n",
    "        output_name = set+\"_\"+video+\"_\"+file_name\n",
    "        text = Recode(value)\n",
    "        ix += 1  \n",
    "\n",
    "    ix = 0\n",
    "    voc_iou = []\n",
    "    mean_iou = 0\n",
    "    #print(str(len(prediction[\"boxes\"])) + \" prediction boxes made for \" + str(len(annotation[\"boxes\"])) + \" actual boxes in \" + str(output_name))\n",
    "    print(prediction[\"boxes\"])\n",
    "    for box in prediction[\"boxes\"]:\n",
    "        xmin, ymin, xmax, ymax = box.tolist()\n",
    "        iou_list = []\n",
    "        for bound in annotation_boxes:\n",
    "            a_xmin, a_ymin, a_xmax, a_ymax = bound\n",
    "            xA = max(xmin, a_xmin)\n",
    "            yA = max(ymin, a_ymin)\n",
    "            xB = min(xmax, a_xmax)\n",
    "            yB = min(ymax, a_ymax)\n",
    "            interArea = max(0, xB - xA + 1) * max(0, yB - yA + 1)\n",
    "            p_area = (xmax - xmin + 1) * (ymax - ymin + 1)\n",
    "            a_area = (a_xmax - a_xmin + 1) * (a_ymax - a_ymin + 1)\n",
    "            iou = interArea / float(p_area + a_area - interArea)\n",
    "            iou_list.append(iou)\n",
    "        max_val = max(iou_list) \n",
    "        voc_iou.append(max_val)\n",
    "        ix += 1\n",
    "    \n",
    "    print(ix)\n",
    "    mean_iou = sum(voc_iou)/len(voc_iou) + EPS\n",
    "    return [mean_iou, voc_iou]\n"
   ]
  },
  {
   "cell_type": "code",
   "execution_count": 25,
   "metadata": {
    "collapsed": false
   },
   "outputs": [
    {
     "name": "stdout",
     "output_type": "stream",
     "text": [
      "tensor([], size=(0, 4), grad_fn=<StackBackward>)\n0\n"
     ]
    },
    {
     "ename": "ZeroDivisionError",
     "evalue": "division by zero",
     "traceback": [
      "\u001b[0;31m---------------------------------------------------------------------------\u001b[0m",
      "\u001b[0;31mZeroDivisionError\u001b[0m                         Traceback (most recent call last)",
      "\u001b[0;32m<ipython-input-25-fe65e7d793bd>\u001b[0m in \u001b[0;36m<module>\u001b[0;34m\u001b[0m\n\u001b[1;32m      1\u001b[0m \u001b[0miou_df_train\u001b[0m \u001b[0;34m=\u001b[0m \u001b[0mpd\u001b[0m\u001b[0;34m.\u001b[0m\u001b[0mDataFrame\u001b[0m\u001b[0;34m(\u001b[0m\u001b[0mcolumns\u001b[0m\u001b[0;34m=\u001b[0m\u001b[0;34m[\u001b[0m\u001b[0;34m\"Train_Mean_IOU\"\u001b[0m\u001b[0;34m,\u001b[0m \u001b[0;34m\"IOU_List\"\u001b[0m\u001b[0;34m]\u001b[0m\u001b[0;34m)\u001b[0m\u001b[0;34m\u001b[0m\u001b[0;34m\u001b[0m\u001b[0m\n\u001b[1;32m      2\u001b[0m \u001b[0;32mfor\u001b[0m \u001b[0mtrain_pred\u001b[0m \u001b[0;32min\u001b[0m \u001b[0mrange\u001b[0m\u001b[0;34m(\u001b[0m\u001b[0;36m0\u001b[0m\u001b[0;34m,\u001b[0m \u001b[0mtrain_i\u001b[0m\u001b[0;34m)\u001b[0m\u001b[0;34m:\u001b[0m\u001b[0;34m\u001b[0m\u001b[0;34m\u001b[0m\u001b[0m\n\u001b[0;32m----> 3\u001b[0;31m     \u001b[0miou_function\u001b[0m \u001b[0;34m=\u001b[0m \u001b[0mget_iou\u001b[0m\u001b[0;34m(\u001b[0m\u001b[0mtrain_pred\u001b[0m\u001b[0;34m,\u001b[0m \u001b[0;34m\"first\"\u001b[0m\u001b[0;34m,\u001b[0m \u001b[0;32mFalse\u001b[0m\u001b[0;34m)\u001b[0m\u001b[0;34m\u001b[0m\u001b[0;34m\u001b[0m\u001b[0m\n\u001b[0m\u001b[1;32m      4\u001b[0m     \u001b[0mlen_df\u001b[0m \u001b[0;34m=\u001b[0m \u001b[0mlen\u001b[0m\u001b[0;34m(\u001b[0m\u001b[0miou_df_train\u001b[0m\u001b[0;34m)\u001b[0m\u001b[0;34m\u001b[0m\u001b[0;34m\u001b[0m\u001b[0m\n\u001b[1;32m      5\u001b[0m     \u001b[0miou_df_train\u001b[0m\u001b[0;34m.\u001b[0m\u001b[0mloc\u001b[0m\u001b[0;34m[\u001b[0m\u001b[0mlen_df\u001b[0m\u001b[0;34m,\u001b[0m\u001b[0;34m:\u001b[0m\u001b[0;34m]\u001b[0m \u001b[0;34m=\u001b[0m \u001b[0miou_function\u001b[0m\u001b[0;34m\u001b[0m\u001b[0;34m\u001b[0m\u001b[0m\n",
      "\u001b[0;32m<ipython-input-21-794bf0e0948f>\u001b[0m in \u001b[0;36mget_iou\u001b[0;34m(num, input, test)\u001b[0m\n\u001b[1;32m     53\u001b[0m \u001b[0;34m\u001b[0m\u001b[0m\n\u001b[1;32m     54\u001b[0m     \u001b[0mprint\u001b[0m\u001b[0;34m(\u001b[0m\u001b[0mix\u001b[0m\u001b[0;34m)\u001b[0m\u001b[0;34m\u001b[0m\u001b[0;34m\u001b[0m\u001b[0m\n\u001b[0;32m---> 55\u001b[0;31m     \u001b[0mmean_iou\u001b[0m \u001b[0;34m=\u001b[0m \u001b[0msum\u001b[0m\u001b[0;34m(\u001b[0m\u001b[0mvoc_iou\u001b[0m\u001b[0;34m)\u001b[0m\u001b[0;34m/\u001b[0m\u001b[0mlen\u001b[0m\u001b[0;34m(\u001b[0m\u001b[0mvoc_iou\u001b[0m\u001b[0;34m)\u001b[0m\u001b[0;34m\u001b[0m\u001b[0;34m\u001b[0m\u001b[0m\n\u001b[0m\u001b[1;32m     56\u001b[0m     \u001b[0;32mreturn\u001b[0m \u001b[0;34m[\u001b[0m\u001b[0mmean_iou\u001b[0m\u001b[0;34m,\u001b[0m \u001b[0mvoc_iou\u001b[0m\u001b[0;34m]\u001b[0m\u001b[0;34m\u001b[0m\u001b[0;34m\u001b[0m\u001b[0m\n",
      "\u001b[0;31mZeroDivisionError\u001b[0m: division by zero"
     ],
     "output_type": "error"
    }
   ],
   "source": [
    "iou_df_train = pd.DataFrame(columns=[\"Train_Mean_IOU\", \"IOU_List\"])\n",
    "for train_pred in range(0, train_i):\n",
    "    iou_function = get_iou(train_pred, \"first\", False)\n",
    "    len_df = len(iou_df_train)\n",
    "    iou_df_train.loc[len_df,:] = iou_function\n",
    "    try:\n",
    "        if train_pred % 50 == 0:\n",
    "            partial_name = \"partial_iou_TRAIN\" + str(train_pred) + \"_images.csv\" \n",
    "            iou_df_train.to_csv(file_output_path+partial_name, index=False)\n",
    "            print(f'Partial train IOUs for {len(iou_df_train)} images saved to {directory}.') \n",
    "    except:\n",
    "        pass\n",
    "        \n",
    "iou_df_train_name = \"full_iou_TRAIN_\" + str(epochs) + \".csv\"\n",
    "iou_df_train.to_csv(file_output_path+iou_df_train_name, index=False)\n",
    "print(f'Full train IOUs for {len(iou_df_train)} images saved to {directory}.') \n"
   ]
  },
  {
   "cell_type": "code",
   "execution_count": 33,
   "metadata": {
    "collapsed": false
   },
   "outputs": [
    {
     "name": "stdout",
     "output_type": "stream",
     "text": [
      "tensor([], size=(0, 4), grad_fn=<StackBackward>)\n0\n"
     ]
    },
    {
     "ename": "ZeroDivisionError",
     "evalue": "division by zero",
     "traceback": [
      "\u001b[0;31m---------------------------------------------------------------------------\u001b[0m",
      "\u001b[0;31mZeroDivisionError\u001b[0m                         Traceback (most recent call last)",
      "\u001b[0;32m<ipython-input-33-fb3bb5a9c783>\u001b[0m in \u001b[0;36m<module>\u001b[0;34m\u001b[0m\n\u001b[1;32m      1\u001b[0m \u001b[0miou_df_test\u001b[0m \u001b[0;34m=\u001b[0m \u001b[0mpd\u001b[0m\u001b[0;34m.\u001b[0m\u001b[0mDataFrame\u001b[0m\u001b[0;34m(\u001b[0m\u001b[0mcolumns\u001b[0m\u001b[0;34m=\u001b[0m\u001b[0;34m[\u001b[0m\u001b[0;34m\"Test_Mean_IOU\"\u001b[0m\u001b[0;34m,\u001b[0m \u001b[0;34m\"IOU_List\"\u001b[0m\u001b[0;34m]\u001b[0m\u001b[0;34m)\u001b[0m\u001b[0;34m\u001b[0m\u001b[0;34m\u001b[0m\u001b[0m\n\u001b[1;32m      2\u001b[0m \u001b[0;32mfor\u001b[0m \u001b[0mtest_pred\u001b[0m \u001b[0;32min\u001b[0m \u001b[0mrange\u001b[0m\u001b[0;34m(\u001b[0m\u001b[0;36m0\u001b[0m\u001b[0;34m,\u001b[0m \u001b[0mtest_i\u001b[0m\u001b[0;34m)\u001b[0m\u001b[0;34m:\u001b[0m\u001b[0;34m\u001b[0m\u001b[0;34m\u001b[0m\u001b[0m\n\u001b[0;32m----> 3\u001b[0;31m     \u001b[0miou_function\u001b[0m \u001b[0;34m=\u001b[0m \u001b[0mget_iou\u001b[0m\u001b[0;34m(\u001b[0m\u001b[0mtest_pred\u001b[0m\u001b[0;34m,\u001b[0m \u001b[0;34m\"first\"\u001b[0m\u001b[0;34m,\u001b[0m \u001b[0;32mFalse\u001b[0m\u001b[0;34m)\u001b[0m\u001b[0;34m\u001b[0m\u001b[0;34m\u001b[0m\u001b[0m\n\u001b[0m\u001b[1;32m      4\u001b[0m     \u001b[0mlen_df\u001b[0m \u001b[0;34m=\u001b[0m \u001b[0mlen\u001b[0m\u001b[0;34m(\u001b[0m\u001b[0miou_df_test\u001b[0m\u001b[0;34m)\u001b[0m\u001b[0;34m\u001b[0m\u001b[0;34m\u001b[0m\u001b[0m\n\u001b[1;32m      5\u001b[0m     \u001b[0miou_df_test\u001b[0m\u001b[0;34m.\u001b[0m\u001b[0mloc\u001b[0m\u001b[0;34m[\u001b[0m\u001b[0mlen_df\u001b[0m\u001b[0;34m,\u001b[0m\u001b[0;34m:\u001b[0m\u001b[0;34m]\u001b[0m \u001b[0;34m=\u001b[0m \u001b[0miou_function\u001b[0m\u001b[0;34m\u001b[0m\u001b[0;34m\u001b[0m\u001b[0m\n",
      "\u001b[0;32m<ipython-input-21-794bf0e0948f>\u001b[0m in \u001b[0;36mget_iou\u001b[0;34m(num, input, test)\u001b[0m\n\u001b[1;32m     53\u001b[0m \u001b[0;34m\u001b[0m\u001b[0m\n\u001b[1;32m     54\u001b[0m     \u001b[0mprint\u001b[0m\u001b[0;34m(\u001b[0m\u001b[0mix\u001b[0m\u001b[0;34m)\u001b[0m\u001b[0;34m\u001b[0m\u001b[0;34m\u001b[0m\u001b[0m\n\u001b[0;32m---> 55\u001b[0;31m     \u001b[0mmean_iou\u001b[0m \u001b[0;34m=\u001b[0m \u001b[0msum\u001b[0m\u001b[0;34m(\u001b[0m\u001b[0mvoc_iou\u001b[0m\u001b[0;34m)\u001b[0m\u001b[0;34m/\u001b[0m\u001b[0mlen\u001b[0m\u001b[0;34m(\u001b[0m\u001b[0mvoc_iou\u001b[0m\u001b[0;34m)\u001b[0m\u001b[0;34m\u001b[0m\u001b[0;34m\u001b[0m\u001b[0m\n\u001b[0m\u001b[1;32m     56\u001b[0m     \u001b[0;32mreturn\u001b[0m \u001b[0;34m[\u001b[0m\u001b[0mmean_iou\u001b[0m\u001b[0;34m,\u001b[0m \u001b[0mvoc_iou\u001b[0m\u001b[0;34m]\u001b[0m\u001b[0;34m\u001b[0m\u001b[0;34m\u001b[0m\u001b[0m\n",
      "\u001b[0;31mZeroDivisionError\u001b[0m: division by zero"
     ],
     "output_type": "error"
    }
   ],
   "source": [
    "iou_df_test = pd.DataFrame(columns=[\"Test_Mean_IOU\", \"IOU_List\"])\n",
    "for test_pred in range(0, test_i):\n",
    "    iou_function = get_iou(test_pred, \"first\", False)\n",
    "    len_df = len(iou_df_test)\n",
    "    iou_df_test.loc[len_df,:] = iou_function\n",
    "    try:\n",
    "        if test_pred % 50 == 0:\n",
    "            partial_name = \"partial_iou_TRAIN\" + str(test_pred) + \"_images.csv\" \n",
    "            iou_df_test.to_csv(file_output_path+partial_name, index=False)\n",
    "            print(f'Partial train IOUs for {len(iou_df_test)} images saved to {directory}.') \n",
    "    except:\n",
    "        pass\n",
    "        \n",
    "iou_df_test_name = \"full_iou_TEST_\" + str(epochs) + \".csv\"\n",
    "iou_df_test.to_csv(file_output_path+iou_df_test_name, index=False)\n",
    "print(f'Full train IOUs for {len(iou_df_test)} images saved to {directory}.') \n"
   ]
  },
  {
   "cell_type": "code",
   "execution_count": 123,
   "metadata": {
    "collapsed": false
   },
   "outputs": [],
   "source": [
    "max_train_ix = iou_df_train[iou_df_train['Train_Mean_IOU'] == iou_df_train['Train_Mean_IOU'].max()].index.tolist()[0]\n",
    "max_test_ix = iou_df_test[iou_df_test['Test_Mean_IOU'] == iou_df_test['Test_Mean_IOU'].max()].index.tolist()[0]\n"
   ]
  },
  {
   "cell_type": "code",
   "execution_count": 132,
   "metadata": {
    "collapsed": false
   },
   "outputs": [
    {
     "name": "stdout",
     "output_type": "stream",
     "text": [
      "Train\n100 prediction boxes made for 3 actual boxes in set01_V003_I00640\n"
     ]
    },
    {
     "data": {
      "image/png": "[encoded data removed]",
      "text/plain": [
       "<Figure size 432x288 with 1 Axes>"
      ]
     },
     "metadata": {},
     "output_type": "display_data"
    },
    {
     "name": "stdout",
     "output_type": "stream",
     "text": [
      "75.0 false positives (IOU = 0)\n22.0 bad positives (0 < IOU < 0.5)\n3.0 good positives (IOU >= 0.5)\nMean: 0.05205188220017155\n"
     ]
    },
    {
     "name": "stdout",
     "output_type": "stream",
     "text": [
      "Figure I00640_best_train.png saved to /Users/navya/Desktop/Capstone/thermal-pedestrian-detection-lstm/2020_12_10-12_43_10_PM.\n"
     ]
    }
   ],
   "source": [
    "plot_iou(max_train_ix, \"best_train\", False)\n"
   ]
  },
  {
   "cell_type": "code",
   "execution_count": null,
   "metadata": {
    "collapsed": true
   },
   "outputs": [
    {
     "name": "stdout",
     "output_type": "stream",
     "text": [
      "Train Mean IOU: 0.0207591939267362\nTest Mean IOU: 0.05205188220017155\n"
     ]
    }
   ],
   "source": [
    "plot_iou(max_test_ix, \"best_test\", True)\n"
   ]
  },
  {
   "cell_type": "code",
   "execution_count": 137,
   "metadata": {
    "collapsed": true
   },
   "outputs": [
    {
     "name": "stdout",
     "output_type": "stream",
     "text": [
      "Train Mean IOU: 0.0207591939267362\nTest Mean IOU: 0.05205188220017155\n"
     ]
    }
   ],
   "source": [
    "print(f'Train Mean IOU: {iou_df_train[\"Train_Mean_IOU\"].mean()}')\n",
    "print(f'Test Mean IOU: {iou_df_test[\"Test_Mean_IOU\"].mean()}')"
   ]
  }
 ],
 "metadata": {
  "kernelspec": {
   "display_name": "Python 2",
   "language": "python",
   "name": "python2"
  },
  "language_info": {
   "codemirror_mode": {
    "name": "ipython",
    "version": 2
   },
   "file_extension": ".py",
   "mimetype": "text/x-python",
   "name": "python",
   "nbconvert_exporter": "python",
   "pygments_lexer": "ipython2",
   "version": "2.7.6"
  }
 },
 "nbformat": 4,
 "nbformat_minor": 0
}
